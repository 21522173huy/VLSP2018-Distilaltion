{
 "cells": [
  {
   "cell_type": "code",
   "execution_count": 1,
   "metadata": {},
   "outputs": [
    {
     "name": "stdout",
     "output_type": "stream",
     "text": [
      "Train Dataset: 3000\n",
      "Val Dataset: 2000\n",
      "Test Dataset: 600\n"
     ]
    }
   ],
   "source": [
    "from torch.utils.data import Dataset, DataLoader\n",
    "from dataset.dataset import create_dataset\n",
    "\n",
    "train_dataset, val_dataset, test_dataset = create_dataset(data_path = 'dataset/preprocessed_hotel', \n",
    "                                                            batch_size = 2)\n",
    "\n",
    "# Create DataLoaders\n",
    "train_dataloader = DataLoader(train_dataset, batch_size=2, shuffle=True)\n",
    "val_dataloader = DataLoader(val_dataset, batch_size=2, shuffle=False)\n",
    "test_dataloader = DataLoader(test_dataset, batch_size=2, shuffle=False)"
   ]
  },
  {
   "cell_type": "code",
   "execution_count": 2,
   "metadata": {},
   "outputs": [
    {
     "name": "stderr",
     "output_type": "stream",
     "text": [
      "Some weights of RobertaModel were not initialized from the model checkpoint at vinai/phobert-base-v2 and are newly initialized: ['roberta.pooler.dense.bias', 'roberta.pooler.dense.weight']\n",
      "You should probably TRAIN this model on a down-stream task to be able to use it for predictions and inference.\n"
     ]
    },
    {
     "name": "stdout",
     "output_type": "stream",
     "text": [
      "Using device: cpu\n",
      "Train Only Classifier Layer\n"
     ]
    }
   ],
   "source": [
    "# Import Model\n",
    "from models.roberta_model import ASBA_PhoBertCustomModel\n",
    "model = ASBA_PhoBertCustomModel(roberta_version = 'vinai/phobert-base-v2', \n",
    "                                num_labels = train_dataset.num_labels(),\n",
    "                                num_epochs_freeze = 2,\n",
    "                                unfreeze_steps = 1,)"
   ]
  },
  {
   "cell_type": "code",
   "execution_count": null,
   "metadata": {},
   "outputs": [],
   "source": [
    "batch = next(iter(train_dataloader))\n",
    "model.eval()\n",
    "\n",
    "from torch import nn\n",
    "criterion = nn.CrossEntropyLoss()"
   ]
  },
  {
   "cell_type": "code",
   "execution_count": 23,
   "metadata": {},
   "outputs": [],
   "source": [
    "device = 'cpu'\n",
    "\n",
    "input_ids, attention_mask = batch['input_ids'].to(device), batch['attention_mask'].to(device)\n",
    "labels = batch['labels'].to(device)\n",
    "\n",
    "output = model(input_ids=input_ids, attention_mask=attention_mask)\n",
    "loss = criterion(output.mT, labels)"
   ]
  },
  {
   "cell_type": "code",
   "execution_count": 25,
   "metadata": {},
   "outputs": [
    {
     "data": {
      "text/plain": [
       "(array([3, 3, 3, 3, 3, 3, 3, 3, 3, 3, 3, 3, 3, 3, 3, 3, 3, 3, 3, 3, 3, 3,\n",
       "        3, 3, 3, 3, 3, 3, 3, 3, 3, 3, 3, 3, 3, 3, 3, 3, 3, 3, 3, 3, 3, 3,\n",
       "        3, 3, 3, 3, 3, 3, 3, 3, 3, 3, 3, 3, 3, 3, 3, 3, 3, 3, 3, 3, 3, 3,\n",
       "        3, 3], dtype=int64),\n",
       " array([1, 0, 1, 0, 0, 0, 0, 0, 0, 0, 0, 0, 0, 1, 0, 0, 0, 0, 0, 0, 0, 3,\n",
       "        0, 0, 0, 0, 0, 0, 0, 0, 0, 0, 0, 1, 0, 0, 0, 0, 0, 0, 0, 0, 0, 0,\n",
       "        0, 0, 0, 0, 3, 0, 1, 0, 0, 0, 0, 2, 0, 0, 0, 0, 0, 0, 2, 0, 0, 0,\n",
       "        0, 3], dtype=int64))"
      ]
     },
     "execution_count": 25,
     "metadata": {},
     "output_type": "execute_result"
    }
   ],
   "source": [
    "prediction = output.argmax(dim=-1).view(-1).cpu().numpy()\n",
    "true = labels.view(-1).cpu().numpy()\n",
    "\n",
    "prediction, true"
   ]
  },
  {
   "cell_type": "code",
   "execution_count": 31,
   "metadata": {},
   "outputs": [
    {
     "name": "stdout",
     "output_type": "stream",
     "text": [
      "Aspect Identification - Accuracy: 0.14705882352941177, Precision: 0.07352941176470588, Recall: 0.5, F1-Score: 0.1282051282051282\n"
     ]
    }
   ],
   "source": [
    "# Aspect Identification Metrics\n",
    "\n",
    "from sklearn.metrics import precision_recall_fscore_support, accuracy_score\n",
    "\n",
    "aspect_true = true != 0  # True aspects are those that are not 'None'\n",
    "aspect_pred = prediction != 0  # Predicted aspects are those that are not 'None'\n",
    "\n",
    "acc = accuracy_score(aspect_true, aspect_pred)\n",
    "aspect_precision, aspect_recall, aspect_f1, _ = precision_recall_fscore_support(aspect_true, aspect_pred, average='macro', zero_division=0)\n",
    "\n",
    "print(f\"Aspect Identification - Accuracy: {acc}, Precision: {aspect_precision}, Recall: {aspect_recall}, F1-Score: {aspect_f1}\")"
   ]
  },
  {
   "cell_type": "code",
   "execution_count": 28,
   "metadata": {},
   "outputs": [
    {
     "data": {
      "text/plain": [
       "array([ True, False,  True, False, False, False, False, False, False,\n",
       "       False, False, False, False,  True, False, False, False, False,\n",
       "       False, False, False,  True, False, False, False, False, False,\n",
       "       False, False, False, False, False, False,  True, False, False,\n",
       "       False, False, False, False, False, False, False, False, False,\n",
       "       False, False, False,  True, False,  True, False, False, False,\n",
       "       False,  True, False, False, False, False, False, False,  True,\n",
       "       False, False, False, False,  True])"
      ]
     },
     "execution_count": 28,
     "metadata": {},
     "output_type": "execute_result"
    }
   ],
   "source": [
    "correct_aspects = aspect_true & aspect_pred\n",
    "correct_aspects"
   ]
  },
  {
   "cell_type": "code",
   "execution_count": 32,
   "metadata": {},
   "outputs": [
    {
     "name": "stdout",
     "output_type": "stream",
     "text": [
      "Sentiment Classification - Accuracy: 0.3, Precision: 0.09999999999999999, Recall: 0.3333333333333333, F1-Score: 0.15384615384615385\n"
     ]
    }
   ],
   "source": [
    "# Sentiment Classification Metrics (only for correctly identified aspects)\n",
    "correct_aspects = aspect_true & aspect_pred\n",
    "\n",
    "sentiment_accuracy = accuracy_score(true[correct_aspects], prediction[correct_aspects])\n",
    "sentiment_precision, sentiment_recall, sentiment_f1, _ = precision_recall_fscore_support(true[correct_aspects], prediction[correct_aspects], average='macro', zero_division=0)\n",
    "\n",
    "print(f\"Sentiment Classification - Accuracy: {sentiment_accuracy}, Precision: {sentiment_precision}, Recall: {sentiment_recall}, F1-Score: {sentiment_f1}\")"
   ]
  }
 ],
 "metadata": {
  "kernelspec": {
   "display_name": "main_env",
   "language": "python",
   "name": "python3"
  },
  "language_info": {
   "codemirror_mode": {
    "name": "ipython",
    "version": 3
   },
   "file_extension": ".py",
   "mimetype": "text/x-python",
   "name": "python",
   "nbconvert_exporter": "python",
   "pygments_lexer": "ipython3",
   "version": "3.11.9"
  }
 },
 "nbformat": 4,
 "nbformat_minor": 2
}
